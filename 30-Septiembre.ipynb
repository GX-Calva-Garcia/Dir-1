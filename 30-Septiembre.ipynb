{
 "metadata": {
  "language": "Julia",
  "name": "",
  "signature": "sha256:9f71bf856158703795f6663780ce0a997c4b32dbcb7ebd57819cb9d651f1abe3"
 },
 "nbformat": 3,
 "nbformat_minor": 0,
 "worksheets": [
  {
   "cells": [
    {
     "cell_type": "code",
     "collapsed": false,
     "input": [
      ";git status"
     ],
     "language": "python",
     "metadata": {},
     "outputs": [
      {
       "output_type": "stream",
       "stream": "stderr",
       "text": [
        "fatal: Not a git repository (or any of the parent directories): .git\n"
       ]
      }
     ],
     "prompt_number": 1
    },
    {
     "cell_type": "code",
     "collapsed": false,
     "input": [
      ";git init"
     ],
     "language": "python",
     "metadata": {},
     "outputs": [
      {
       "output_type": "stream",
       "stream": "stdout",
       "text": [
        "Initialized empty Git repository in /home/est2/Documentos/.git/\n"
       ]
      }
     ],
     "prompt_number": 2
    },
    {
     "cell_type": "code",
     "collapsed": false,
     "input": [
      ";git status"
     ],
     "language": "python",
     "metadata": {},
     "outputs": [
      {
       "output_type": "stream",
       "stream": "stdout",
       "text": [
        "On branch master\n",
        "\n",
        "Initial commit\n",
        "\n",
        "Untracked files:\n",
        "  (use \"git add <file>...\" to include in what will be committed)\n",
        "\n",
        "\t.ipynb_checkpoints/\n",
        "\t11 de septiembre.ipynb\n",
        "\t18 de Septiembre.ipynb\n",
        "\t2 de Septiembre - Euler cont. and something more.ipynb\n",
        "\t23 Septiembre.ipynb\n",
        "\t4 de Septiembre..ipynb\n",
        "\t9 Septiembre.ipynb\n",
        "\tCalcular raiz.ipynb\n",
        "\tClase 25 Agosto Matrices.ipynb\n",
        "\tClase 25 de Agosto-Interactividad.ipynb\n",
        "\tClase 28 de agosto - Ec.Dif.ipynb\n",
        "\tFor y While.ipynb\n",
        "\t\"Tiro parab\\303\\263lico.ipynb\"\n",
        "\tUntitled0.ipynb\n",
        "\tfisica_computacional/\n",
        "\tgraficas.ipynb\n",
        "\n",
        "nothing added to commit but untracked files present (use \"git add\" to track)\n"
       ]
      }
     ],
     "prompt_number": 3
    },
    {
     "cell_type": "code",
     "collapsed": false,
     "input": [
      ";git branch secundario"
     ],
     "language": "python",
     "metadata": {},
     "outputs": [
      {
       "output_type": "stream",
       "stream": "stderr",
       "text": [
        "fatal: Not a valid object name: 'master'.\n"
       ]
      }
     ],
     "prompt_number": 4
    },
    {
     "cell_type": "code",
     "collapsed": false,
     "input": [],
     "language": "python",
     "metadata": {},
     "outputs": []
    }
   ],
   "metadata": {}
  }
 ]
}